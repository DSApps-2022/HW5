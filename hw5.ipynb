{
 "cells": [
  {
   "cell_type": "markdown",
   "metadata": {},
   "source": [
    "<img align=\"right\" src=\"images/DSApps_logo_small.jpg\">\n",
    "\n",
    "# DSApps 2022 @ TAU: Assignment 5\n",
    "\n",
    "### Giora Simchoni\n",
    "\n",
    "### Network Analysis with NetworkX"
   ]
  },
  {
   "cell_type": "markdown",
   "metadata": {},
   "source": [
    "### Welcome\n",
    "\n",
    "Welcome to Assignment 5 in Python!\n",
    "\n",
    "Remember:\n",
    "\n",
    "* You can play with the assignment in Playground mode, but:\n",
    "* Only your private Github repository assigned to you by the course admin will be cloned and graded (Submission mode, see instructions [here](https://github.com/DSApps-2022/Class_Slides/blob/main/Apps_of_DS_HW.pdf))\n",
    "* Like any other University assignment, your work should remain private\n",
    "* You need to `git clone` your private Github repository locally as explained [here](https://github.com/DSApps-2022/Class_Slides/blob/main/Apps_of_DS_HW.pdf)\n",
    "* You need to uncomment the starter code inside the chunk, replace the `### YOUR CODE HERE ###`, run the chunk and see that you're getting the expected result\n",
    "* Pay attention to what you're asked to do and the required output\n",
    "* For example, using a *different* function than the one you were specifically asked to use, will decrease your score (unless you amaze me)\n",
    "* Your notebook should run smoothly from start to end if someone presses in the Jupyter toolbar Kernel --> Restart & Run All\n",
    "* When you're done save the entire notebook into a html file, this is the file that would be graded\n",
    "* You can add other files but do not delete any files\n",
    "* Commit your work and push to your private Github repository as explained [here](https://github.com/DSApps-2022/Class_Slides/blob/main/Apps_of_DS_HW.pdf)\n",
    "\n",
    "This assignemtnt is due: 24/4 23:59\n",
    "\n",
    "### Libraries\n",
    "\n",
    "These are the libraries you will need. If you don't have them, you need to uncomment the `!pip install` line and install them first (you can also just copy this command to a terminal and do it there if you don't want all the output printed in this notebook)."
   ]
  },
  {
   "cell_type": "code",
   "execution_count": null,
   "metadata": {},
   "outputs": [],
   "source": [
    "#!pip install matplotlib numpy scipy pandas networkx python-louvain"
   ]
  },
  {
   "cell_type": "code",
   "execution_count": null,
   "metadata": {},
   "outputs": [],
   "source": [
    "import pandas as pd\n",
    "import numpy as np\n",
    "import matplotlib.pyplot as plt\n",
    "import networkx as nx\n",
    "from collections import defaultdict\n",
    "from itertools import combinations # not mandatory"
   ]
  },
  {
   "cell_type": "markdown",
   "metadata": {},
   "source": [
    "### The Films to Actors 2010s Dataset\n",
    "\n"
   ]
  },
  {
   "cell_type": "markdown",
   "metadata": {},
   "source": [
    "For the first part of the assignment we are going to use the 2010 films actors network we scraped from Wikipedia.\n",
    "\n",
    "For details regarding the network, how it was scraped and possible limitations - see [HW4](https://github.com/DSApps-2020/HW4)."
   ]
  },
  {
   "cell_type": "markdown",
   "metadata": {},
   "source": [
    "Read in the data, it is pretty self explanatory:"
   ]
  },
  {
   "cell_type": "code",
   "execution_count": null,
   "metadata": {},
   "outputs": [],
   "source": [
    "films_actors_edgelist = pd.read_csv('data/films_actors_edgelist_2010s.csv', usecols=['film', 'actor', 'year'])"
   ]
  },
  {
   "cell_type": "markdown",
   "metadata": {},
   "source": [
    "### Creating the Network\n",
    "\n",
    "##### (0 points)"
   ]
  },
  {
   "cell_type": "markdown",
   "metadata": {},
   "source": [
    "Here we are using `method 2` from HW4 to create the network `A`:"
   ]
  },
  {
   "cell_type": "code",
   "execution_count": null,
   "metadata": {},
   "outputs": [],
   "source": [
    "def print_network_info(G):\n",
    "    print('no. of nodes: %d' % G.number_of_nodes())\n",
    "    print('no. of edges: %d' % G.number_of_edges())\n",
    "    print('no. of James Franco neighbors: %d' % len(list(G.neighbors('James Franco'))))"
   ]
  },
  {
   "cell_type": "code",
   "execution_count": null,
   "metadata": {},
   "outputs": [],
   "source": [
    "A_temp = nx.from_pandas_edgelist(films_actors_edgelist, 'film', 'actor', ['year'])\n",
    "films = films_actors_edgelist['film'].unique()\n",
    "actors = films_actors_edgelist['actor'].unique()\n",
    "\n",
    "A = nx.bipartite.projected_graph(A_temp, actors)\n",
    "\n",
    "print_network_info(A)"
   ]
  },
  {
   "cell_type": "markdown",
   "metadata": {},
   "source": [
    "### Models\n",
    "\n",
    "##### (40 points)"
   ]
  },
  {
   "cell_type": "markdown",
   "metadata": {},
   "source": [
    "**ER Model**"
   ]
  },
  {
   "cell_type": "markdown",
   "metadata": {},
   "source": [
    "Estimate $p$, the probability of an actor collaborating with another actor, according to the ER model:"
   ]
  },
  {
   "cell_type": "code",
   "execution_count": null,
   "metadata": {},
   "outputs": [],
   "source": [
    "### YOUR CODE HERE ###"
   ]
  },
  {
   "cell_type": "markdown",
   "metadata": {},
   "source": [
    "What is the esitmated transitivity of our network according to the ER model? What is the actual transitivity?"
   ]
  },
  {
   "cell_type": "code",
   "execution_count": null,
   "metadata": {},
   "outputs": [],
   "source": [
    "### YOUR CODE HERE ###"
   ]
  },
  {
   "cell_type": "markdown",
   "metadata": {},
   "source": [
    "What is the estimated diameter of our network according to the ER model? What is the actual diameter? (calculate it on the GCC if needed)"
   ]
  },
  {
   "cell_type": "code",
   "execution_count": null,
   "metadata": {},
   "outputs": [],
   "source": [
    "### YOUR CODE HERE ###"
   ]
  },
  {
   "cell_type": "markdown",
   "metadata": {},
   "source": [
    "According to the ER model, at what *stage* of connectedness our network is in? Is it in that stage?"
   ]
  },
  {
   "cell_type": "code",
   "execution_count": null,
   "metadata": {},
   "outputs": [],
   "source": [
    "### YOUR CODE HERE ###"
   ]
  },
  {
   "cell_type": "markdown",
   "metadata": {},
   "source": [
    "**Power Law Model**"
   ]
  },
  {
   "cell_type": "markdown",
   "metadata": {},
   "source": [
    "Estimate $\\alpha$ and $d_{min}$, the Power Law parameters fitting the actors network. Use the `fit_pl()` function from class in spite of its limitations."
   ]
  },
  {
   "cell_type": "code",
   "execution_count": null,
   "metadata": {},
   "outputs": [],
   "source": [
    "# ### YOUR CODE HERE ###\n",
    "# print('Estimated alpha: %.2f' % alpha_A)\n",
    "# print('Estimated d_min: %.2f' % dmin_A)"
   ]
  },
  {
   "cell_type": "markdown",
   "metadata": {},
   "source": [
    "What is the estimated mean and variance degree of our network according to the PL model?"
   ]
  },
  {
   "cell_type": "code",
   "execution_count": null,
   "metadata": {},
   "outputs": [],
   "source": [
    "### YOUR CODE HERE ###"
   ]
  },
  {
   "cell_type": "markdown",
   "metadata": {},
   "source": [
    "Use the `degree_hist_with_pl_fit()` function from class to plot the fitted PL line on top of the degree histogram of our network (this function can be found at the start of the `u2_d05-models.Rmd` file). Do you \"like\" this fit?"
   ]
  },
  {
   "cell_type": "code",
   "execution_count": null,
   "metadata": {},
   "outputs": [],
   "source": [
    "### YOUR CODE HERE ###"
   ]
  },
  {
   "cell_type": "markdown",
   "metadata": {},
   "source": [
    "Use the `degree_hist_with_pl_fit_log_log()` function from class to plot the fitted PL log-log line on top of the log-log degree histogram of our network (this function can be found at the start of the `u2_d05-models.Rmd` file). Do you \"like\" this fit?"
   ]
  },
  {
   "cell_type": "code",
   "execution_count": null,
   "metadata": {},
   "outputs": [],
   "source": [
    "### YOUR CODE HERE ###"
   ]
  },
  {
   "cell_type": "markdown",
   "metadata": {},
   "source": [
    "### Epidemics Models - the classic approach\n",
    "\n",
    "##### (20 points)"
   ]
  },
  {
   "cell_type": "markdown",
   "metadata": {},
   "source": [
    "* What is the minimum no. of people having a disease to put the entire population at risk?\n",
    "* What is the minimum transfer rate of a disease needed to infect the entire population from a single sick person?\n",
    "* What is the number of people who are expected to die of disease X with transfer rate p?\n",
    "\n",
    "Such questions are the type of questions asked by epidemiologists, but not just. A disease could be a rumor or a piece of Fake News spreading through Whatsapp. A fashion trend on Instagram. Or even a power failure on an electrical grid.\n",
    "\n",
    "In the classic approach to epidemics modeling there is no use of networks at all. In the *fully mixed* model it is assumed that we, the population, are some kind of particles moving in space, equally likely to meet any other person at any given time. This is of course not true in most cases."
   ]
  },
  {
   "cell_type": "markdown",
   "metadata": {},
   "source": [
    "#### The SI Model: S $\\rightarrow$ I"
   ]
  },
  {
   "cell_type": "markdown",
   "metadata": {},
   "source": [
    "In the most basic so-called *compartmental models* of epidemics, the population of $n$ people is divided in two: $S(t)$ which is the number of people *susceptible* to the disease at time $t$ (say day $t$), and $I(t)$ which is the number of people *infected* by the disease at time $t$. So at any given time: $S(t) + I(t) = n$\n",
    "\n",
    "A person has a constant average no. of random contacts at any given time $\\beta$, therefore the transfer rate of the disease is $\\beta I(t)/n$ at time $t$.\n",
    "\n",
    "It is not hard to derive the formula for $I(t)$ at any given time, dependent on $\\beta$ and $I(0)$, which is the number of infected individuals at time $0$. But it does require some calculus out of the scope of this assignment. Let us use the power of Python instead!\n",
    "\n",
    "But before we start: try to anticipate based on your intuition, what would be $I$ after enough $t$ time units have passed?"
   ]
  },
  {
   "cell_type": "markdown",
   "metadata": {},
   "source": [
    "Run the following simulation for a small town of 10,000 people, 10 people are infected on day 0, and let's say the rate of random contacts distributes $Poisson(0.1)$ (on average 0.1 contact per day - very high level of social distancing)."
   ]
  },
  {
   "cell_type": "code",
   "execution_count": null,
   "metadata": {},
   "outputs": [],
   "source": [
    "n = 10000\n",
    "I0 = 10\n",
    "beta = 0.1\n",
    "I = [I0]\n",
    "population = np.zeros(n)\n",
    "population[np.arange(I0)] = 1\n",
    "t = 0\n",
    "phi0 = I0/n\n",
    "phi = [phi0]\n",
    "Idiff = []\n",
    "while True:\n",
    "    for i in range(int(I[t])):\n",
    "        beta_i = np.random.poisson(beta, size=1)[0]\n",
    "        met = np.random.choice(n, size=beta_i, replace=False)\n",
    "        population[met] = 1\n",
    "        if np.sum(population) == n:\n",
    "            break\n",
    "    It = np.sum(population)\n",
    "    I.append(It)\n",
    "    Idiff.append(I[t + 1] - I[t])\n",
    "    print('Day %d: %d infected, %.2f transfer rate' % (t, I[t], beta * It / n))\n",
    "    phi.append(It/n)\n",
    "    t += 1\n",
    "    if np.isclose(It,n):\n",
    "        print('Done.')\n",
    "        break"
   ]
  },
  {
   "cell_type": "markdown",
   "metadata": {},
   "source": [
    "So after..."
   ]
  },
  {
   "cell_type": "code",
   "execution_count": null,
   "metadata": {},
   "outputs": [],
   "source": [
    "t"
   ]
  },
  {
   "cell_type": "markdown",
   "metadata": {},
   "source": [
    "...days, the entire town is infected (and much less if we look at say 90% of town).\n",
    "\n",
    "Look at the $I(t)$ vs. $t$ graph. We'll also add in the theoretical $I(t)$ exponential growth curve which comes from solving a simple differential equation, out of this assignment scope:"
   ]
  },
  {
   "cell_type": "code",
   "execution_count": null,
   "metadata": {},
   "outputs": [],
   "source": [
    "ts = np.arange(t + 1)\n",
    "I_theoretical = (n * I0 * np.exp(beta * ts)) / (n - I0 + I0 * np.exp(beta * ts))\n",
    "\n",
    "plt.plot(ts, I, label = 'simulation')\n",
    "plt.plot(ts, I_theoretical, color = 'red', label = 'theoretical')\n",
    "plt.legend()\n",
    "plt.show()"
   ]
  },
  {
   "cell_type": "markdown",
   "metadata": {},
   "source": [
    "Question: about 10% of infected individuals need ventilators (say \"forever\") and the local hospital has 10 of these at best. On what day will the local hospital run out of ventilators? [Not a tricky question, do not over analyze it]"
   ]
  },
  {
   "cell_type": "markdown",
   "metadata": {},
   "source": [
    "It's also interesting to see the derivative of this graph, which means the no. of *new* infected individuals each day:"
   ]
  },
  {
   "cell_type": "code",
   "execution_count": null,
   "metadata": {},
   "outputs": [],
   "source": [
    "Idiff_theoretical = beta * np.array(I[:-1]) * (n - np.array(I[:-1]))/n\n",
    "\n",
    "plt.plot(np.arange(t), Idiff, label = 'simulation')\n",
    "plt.plot(np.arange(t), Idiff_theoretical, color='red', label = 'theoretical')\n",
    "plt.legend()\n",
    "plt.show()"
   ]
  },
  {
   "cell_type": "markdown",
   "metadata": {},
   "source": [
    "Question: the local hospital daily intake capacity is 100 new patients at best. On what day will the local hospital maximize its intake capacity? [Not a tricky question, do not over analyze it]"
   ]
  },
  {
   "cell_type": "code",
   "execution_count": null,
   "metadata": {},
   "outputs": [],
   "source": [
    "### YOUR CODE HERE ###"
   ]
  },
  {
   "cell_type": "markdown",
   "metadata": {},
   "source": [
    "Write a function `SI(n, I0, beta)` which takes:\n",
    "* `n` population size\n",
    "* `I0` number of infected individuals at time `t`\n",
    "* `beta`, the average rate of random contacts\n",
    "\n",
    "and returns:\n",
    "* `t` no. of days until entire town is infected\n",
    "* `I` the list of daily total infected individuals\n",
    "* `Idiff` the list of daily new infected individuals\n",
    "\n",
    "[yes, you basically need to copy paste]"
   ]
  },
  {
   "cell_type": "code",
   "execution_count": null,
   "metadata": {},
   "outputs": [],
   "source": [
    "### YOUR CODE HERE ###"
   ]
  },
  {
   "cell_type": "markdown",
   "metadata": {},
   "source": [
    "Run this function for our small town, keep `I0` at 1 infected individual, but change `beta` to be in `[0.1, 1, 2, 10]`.\n",
    "\n",
    "Plot $I(t)$ vs. $t$ for the 4 simulations on the same graph:"
   ]
  },
  {
   "cell_type": "code",
   "execution_count": null,
   "metadata": {},
   "outputs": [],
   "source": [
    "### YOUR CODE HERE ###"
   ]
  },
  {
   "cell_type": "markdown",
   "metadata": {},
   "source": [
    "As you might have guessed, in the SI model everyone will be infected eventually **at the same time**. The only question is when, and unless $\\beta$, the no. of random contacts is extremely small (0.1 means meeting one person every 10 days!), this will happen lightning fast."
   ]
  },
  {
   "cell_type": "markdown",
   "metadata": {},
   "source": [
    "#### The SIR Model: S $\\rightarrow$ I $\\rightarrow$ R"
   ]
  },
  {
   "cell_type": "markdown",
   "metadata": {},
   "source": [
    "There are many non-realistic assumptions under the SI model's hood, e.g.:\n",
    "* no differentiation between being exposed, being infected and being ill\n",
    "* same level of susceptibility, same level of infectiveness\n",
    "* no treatment of immunization\n",
    "* no treatment of birth and mortality\n",
    "* assuming only one disease\n",
    "* assuming constant contact rate\n",
    "\n",
    "But perhaps the most striking one is that **there is no chance of recovery**.\n",
    "\n",
    "The SIR model presents another compartment, $R(t)$ which is the number of people *recovered* at time $t$, so: $S(t) + I(t) + R(t)= n$. And note: recovered also means *immuned* (or dead...), these people **cannot** become infected again.\n",
    "\n",
    "Additional recovery rate is needed, and it is $\\gamma$, the average no. of recovered individuals at a time unit (say day), so if it distributes $Poisson(\\gamma)$, then the time until recovery distributes exponentially with $1/\\gamma$ days until recovery on average (again unrealistic)."
   ]
  },
  {
   "cell_type": "markdown",
   "metadata": {},
   "source": [
    "Run the following simulation for our small town of 10,000 people. Now, 1 person is infected on day 0. The rate of random contacts $\\beta$ distributes $Poisson(1)$ (on average 1 contact per day). In addition, let's say the rate of recovery $\\gamma$ distributes $Poisson(0.1)$ (so time until recovery distributes $Exp(0.1)$, and average time until recovery is 10 days)."
   ]
  },
  {
   "cell_type": "code",
   "execution_count": null,
   "metadata": {},
   "outputs": [],
   "source": [
    "n = 10000\n",
    "I0 = 1\n",
    "beta = 1\n",
    "gamma = 0.1\n",
    "infected_times = np.repeat(None, n)\n",
    "times_to_recovery = np.repeat(None, n)\n",
    "infected_times[np.arange(I0)] = -1\n",
    "times_to_recovery[np.arange(I0)] = 1/gamma\n",
    "infected = np.arange(I0)\n",
    "recovered = np.array([])\n",
    "t = 0\n",
    "I = [I0]\n",
    "Idiff = []\n",
    "R = [0]\n",
    "S = [n - len(infected)]\n",
    "while len(infected) > 0:\n",
    "    for i in infected:\n",
    "        beta_i = np.random.poisson(beta, size=1)[0]\n",
    "        met = np.random.choice(n, size=beta_i, replace=False)\n",
    "        met = met[(~np.isin(met, infected)) & (~np.isin(met, recovered))]\n",
    "        if len(met) > 0:\n",
    "            infected = np.append(infected, met)\n",
    "            infected_times[met] = t\n",
    "            times_to_recovery[met] = np.random.exponential(1/gamma, size=len(met))[0]\n",
    "        if t - infected_times[i] > times_to_recovery[i]:\n",
    "            infected = infected[infected != i]\n",
    "            recovered = np.append(recovered, i)\n",
    "        if len(recovered) == n:\n",
    "            break\n",
    "    I.append(len(infected))\n",
    "    Idiff.append(I[t + 1] - I[t])\n",
    "    R.append(len(recovered))\n",
    "    S.append(n - (I[t] + R[t]))\n",
    "    print('Day %d: %d infected, %d recovered' % (t, I[t], R[t]))\n",
    "    t += 1\n",
    "    if np.isclose(len(recovered), n, atol=3):\n",
    "        break\n",
    "print('Done.')\n",
    "        \n",
    "    "
   ]
  },
  {
   "cell_type": "markdown",
   "metadata": {},
   "source": [
    "So after..."
   ]
  },
  {
   "cell_type": "code",
   "execution_count": null,
   "metadata": {},
   "outputs": [],
   "source": [
    "t"
   ]
  },
  {
   "cell_type": "markdown",
   "metadata": {},
   "source": [
    "...days, the entire town is recovered after it had been infected (and much less if we look at say 90% of town).\n",
    "\n",
    "Look at the $S(I),I(t),R(I)$ vs. $t$ graph."
   ]
  },
  {
   "cell_type": "code",
   "execution_count": null,
   "metadata": {},
   "outputs": [],
   "source": [
    "ts = np.arange(t + 1)\n",
    "\n",
    "plt.plot(ts, I, label = 'infected')\n",
    "plt.plot(ts, R, label = 'recovered')\n",
    "plt.plot(ts, S, label = 'susceptible')\n",
    "plt.legend()\n",
    "plt.show()"
   ]
  },
  {
   "cell_type": "markdown",
   "metadata": {},
   "source": [
    "It's also interesting to see the derivative of the $I(t)$ graph, which means the difference in infected individuals each day:"
   ]
  },
  {
   "cell_type": "code",
   "execution_count": null,
   "metadata": {},
   "outputs": [],
   "source": [
    "Idiff_theoretical = beta * np.array(I[:-1]) * (n - np.array(I[:-1]) - np.array(R[:-1]))/n - gamma * np.array(I[:-1])\n",
    "\n",
    "plt.plot(np.arange(t), Idiff, label = 'simulation')\n",
    "plt.plot(np.arange(t), Idiff_theoretical, color='red', label = 'theoretical')\n",
    "plt.legend()\n",
    "plt.show()"
   ]
  },
  {
   "cell_type": "markdown",
   "metadata": {},
   "source": [
    "Notice that in the SIR model, **using these parameters**, the entire town population got infected as well.\n",
    "\n",
    "But the SIR model gives some hope in containing the disease if it breaks, a.k.a \"Flattening the Curve\", which is achieved by lowering $\\beta$, the average rate of random contacts."
   ]
  },
  {
   "cell_type": "markdown",
   "metadata": {},
   "source": [
    "Write a function `SIR(n, I0, beta, gamma)` which takes:\n",
    "* `n` population size\n",
    "* `I0` number of infected individuals at time `t`\n",
    "* `beta`, the average rate of random contacts\n",
    "* `gamma`, the average rate of recovered people\n",
    "\n",
    "and returns:\n",
    "* `t` no. of days until entire town is infected\n",
    "* `I` the list of daily total infected individuals\n",
    "* `Idiff` the list of daily difference in infected individuals\n",
    "* `S` the list of daily total susceptible individuals\n",
    "* `R` the list of daily total recovered individuals\n",
    "\n",
    "[yes, you basically need to copy paste]"
   ]
  },
  {
   "cell_type": "code",
   "execution_count": null,
   "metadata": {},
   "outputs": [],
   "source": [
    "### YOUR CODE HERE ###"
   ]
  },
  {
   "cell_type": "markdown",
   "metadata": {},
   "source": [
    "Now run the simulation a few times with the same parameters, except $\\beta$ is lowered to 0.5 (one contact every two days). Then plot the SIR curves as we did."
   ]
  },
  {
   "cell_type": "code",
   "execution_count": null,
   "metadata": {},
   "outputs": [],
   "source": [
    "### YOUR CODE HERE ###"
   ]
  },
  {
   "cell_type": "markdown",
   "metadata": {},
   "source": [
    "As you can see the $I(t)$ curve is indeed \"flattened\", though the entire town caught the disease eventually."
   ]
  },
  {
   "cell_type": "markdown",
   "metadata": {},
   "source": [
    "Must the disease outbreak? Must the entire population get infected?\n",
    "\n",
    "Run the simulation with $\\beta$ lowered to 0.1, and plot the SIR curves. Run it a few times to see how the outcome varies and consider not drawing the $S(I)$ curve to see the effect."
   ]
  },
  {
   "cell_type": "code",
   "execution_count": null,
   "metadata": {},
   "outputs": [],
   "source": [
    "### YOUR CODE HERE ###"
   ]
  },
  {
   "cell_type": "markdown",
   "metadata": {},
   "source": [
    "As you can see by the SIR model, the epidemic might not outbreak at all if the rate of contacts is low enough and the rate of recovery is high enough. And if you play with the parameters you would see that even when the disease *does* take off, not all people in town might get it.\n",
    "\n",
    "The $\\beta/\\gamma$ ratio is the critical point, irrelative of population size, and is sometimes called the Basic Reproduction Number. It can be seen as the number of people an infected person will infect until she recovers. If it is over 1 the epidemic will outbreak, and if it is less than 1 it should not. Read about it [here](https://en.wikipedia.org/wiki/Compartmental_models_in_epidemiology#The_SIR_model_without_vital_dynamics) (short) or [here](https://web.stanford.edu/~jhj1/teachingdocs/Jones-on-R0.pdf) (long).\n",
    "\n",
    "Lastly note that this is just the beginning. There are various other epidemics models (SIS, SEIR, SEIS, to drop-name a few). Read all about it."
   ]
  },
  {
   "cell_type": "markdown",
   "metadata": {},
   "source": [
    "### Epidemics Models - on Networks\n",
    "\n",
    "##### (30 points)"
   ]
  },
  {
   "cell_type": "markdown",
   "metadata": {},
   "source": [
    "Think about why an epidemic outbreak might be different when we consider the population has a network structure (as opposed to the fully mixed model above).\n",
    "\n",
    "* A network might not be fully connected. So even in the pessimistic SI model an epidemic might not occur, depending on how well connected are the initial infected individuals.\n",
    "* In general there would be variation in the level of spreading the disease. We expect the more connected a person is, the higher her rate of spreading the disease.\n",
    "* If a network isn't dynamic, and each person stays connected to the same neighorhood - if that person is infected she will have depleted her potential of infecting other people on her neighborhood. She won't go on infecting forever.\n",
    "* Finally even within networks we've seen different models for different structures. A network's structure could serve to impact the rate of infection, not just the nature of disease. How will an epidemic outbreak look like for a ER model network? How will it look like for a Power Law model network? What is the best network structure to slow down a disease?"
   ]
  },
  {
   "cell_type": "markdown",
   "metadata": {},
   "source": [
    "#### SI Model on the Films Actors Network"
   ]
  },
  {
   "cell_type": "markdown",
   "metadata": {},
   "source": [
    "First, when we speak of epidemic models on networks, many conventions remain the same, one main convention changes: the $\\beta$ parameter. Here, the $\\beta$ parameter will be the infection *probability* between an infected and a susceptible neighbors (as opposed to the general infection *rate* previously). Let's also assume it is a fixed probability, i.e. not a random variable as before.\n",
    "\n",
    "And now I want you to start a SI epidemic on our films actors :) Kidding aside I want you to see the effect of degree a node has on the rate it will catch a disease."
   ]
  },
  {
   "cell_type": "markdown",
   "metadata": {},
   "source": [
    "Write a function `SI_network(G, beta, node_zero)` which will receive 3 parameters:\n",
    "* `G` a NetworkX Graph()\n",
    "* `beta` infection probability\n",
    "* `node_zero` name of node (actor or actress) zero, who initially got infected\n",
    "\n",
    "and return:\n",
    "* `t` no. of days until the epidemic saturated, i.e. there was no change in no. of infected for 5 consecutive days (and you may assume `max(t) = 1000`\n",
    "* `I` the list of daily total infected nodes (actors)\n",
    "* `infected_time`: a <string: int> dictionary mapping a node (actor) to time `t` in which it got infected (if a node was not infected put `None`)"
   ]
  },
  {
   "cell_type": "code",
   "execution_count": null,
   "metadata": {},
   "outputs": [],
   "source": [
    "### YOUR CODE HERE ###"
   ]
  },
  {
   "cell_type": "markdown",
   "metadata": {},
   "source": [
    "Run a SI simulation on the films actors network, with infection probability 0.1 and James Franco got infected."
   ]
  },
  {
   "cell_type": "code",
   "execution_count": null,
   "metadata": {},
   "outputs": [],
   "source": [
    "### YOUR CODE HERE ###"
   ]
  },
  {
   "cell_type": "markdown",
   "metadata": {},
   "source": [
    "Plot the number of $I(t)$ vs $t$. Also include a horizontal line at $n$, number of actors."
   ]
  },
  {
   "cell_type": "code",
   "execution_count": null,
   "metadata": {},
   "outputs": [],
   "source": [
    "### YOUR CODE HERE ###"
   ]
  },
  {
   "cell_type": "markdown",
   "metadata": {},
   "source": [
    "As can be seen not all actors got infected. Show in code you understand why this is guaranteed for this simulation in this network:"
   ]
  },
  {
   "cell_type": "code",
   "execution_count": null,
   "metadata": {},
   "outputs": [],
   "source": [
    "### YOUR CODE HERE ###"
   ]
  },
  {
   "cell_type": "markdown",
   "metadata": {},
   "source": [
    "Now use `infected_time` you got and plot the same graph of $I(t)$ vs. $t$ for nodes *with different degrees*, where $I(t, d)$ is normalized for all nodes with degree $d$.\n",
    "\n",
    "* Ignore nodes with degree 0\n",
    "* Nodes with degree 2^0 on a separate line\n",
    "* Nodes with degree 2^0 < d <= 2^1 on a separate line\n",
    "* Nodes with degree 2^1 < d <= 2^2 on a separate line\n",
    "* Nodes with degree 2^2 < d <= 2^3 on a separate line\n",
    "* ...\n",
    "* Nodes with degree 2^5 < d on a separate line\n",
    "\n",
    "To help you it should look something like this (notice the y axis, and correction: your plot should have 7 lines of course by the above requirement, not 6 as here):\n",
    "\n",
    "![](images/SI_actors_by_degree.png)"
   ]
  },
  {
   "cell_type": "markdown",
   "metadata": {},
   "source": [
    "Also to help you (only if you need it, you don't have to use it), here's some starter code:"
   ]
  },
  {
   "cell_type": "code",
   "execution_count": null,
   "metadata": {},
   "outputs": [],
   "source": [
    "actors_degrees = dict(A.degree)\n",
    "degree_counter = {0: np.zeros(t + 1), 1: np.zeros(t + 1), 2: np.zeros(t + 1),\n",
    "                  3: np.zeros(t + 1), 4: np.zeros(t + 1), 5: np.zeros(t + 1)}\n",
    "actors_dict = {actor: {'t': infected_time[actor], 'd': actors_degrees[actor]} for actor in A.nodes}\n",
    "### YOUR CODE HERE ###"
   ]
  },
  {
   "cell_type": "markdown",
   "metadata": {},
   "source": [
    "Isn't that beautiful? Yes we're in the SI model. And yes the probability of infection $\\beta$ is constant. But considering this is a network, the rate of infection depends on the node's degree or centrality. This can also be shown in the SIR model.\n",
    "\n",
    "It can also be shown how $I(t)$ relates to the eigen centrality of the actors. It would be simpler to use `infected_time` and show a scatterplot of the average infected time for different levels of eigen centrality, say for centrality [0.0-0.01], [0.01-0.02], etc."
   ]
  },
  {
   "cell_type": "code",
   "execution_count": null,
   "metadata": {},
   "outputs": [],
   "source": [
    "### YOUR CODE HERE ###"
   ]
  },
  {
   "cell_type": "markdown",
   "metadata": {},
   "source": [
    "#### SIR Model on Power Law and Lattice networks"
   ]
  },
  {
   "cell_type": "markdown",
   "metadata": {},
   "source": [
    "As mentioned in the beginning of this section, the structure of the network also dictates how the disease spreads. In the final part of the assignment we will show the difference of spreading a disease in a social-network-style Power Law network, vs. spreading it in a Lattice network.\n",
    "\n",
    "For the SIR model, we also change the meaning of $\\gamma$ and it is now the recovery *probability*, not rate, for a single infected node. So at each time unit, a node has a fixed probabilty of recovering (or dying...) from the disease, never to be infected again."
   ]
  },
  {
   "cell_type": "markdown",
   "metadata": {},
   "source": [
    "Write a function `SIR_network(G, beta, gamma, node_zero)` which will receive 4 parameters:\n",
    "* `G` a NetworkX Graph()\n",
    "* `beta` infection probability\n",
    "* `gamma` recovery probability\n",
    "* `node_zero` name of node zero, who initially got infected\n",
    "\n",
    "and return:\n",
    "* `t` no. of days until the epidemic saturated, i.e. there was no change in no. of recovered for 5 consecutive days (and you may assume `max(t) = 1000`\n",
    "* `I` the list of daily total infected nodes\n",
    "* `R` the list of daily total recovered nodes\n",
    "* `S` the list of daily total susceptible nodes\n",
    "* `infected_time`: a dictionary mapping an node to time `t` in which it got infected (if an node was not infected put `None`)\n",
    "\n",
    "You may check that your function is working on the films actors network with James Franco as the infected actor, not required."
   ]
  },
  {
   "cell_type": "code",
   "execution_count": null,
   "metadata": {},
   "outputs": [],
   "source": [
    "### YOUR CODE HERE ###"
   ]
  },
  {
   "cell_type": "markdown",
   "metadata": {},
   "source": [
    "Now create two networks:\n",
    "\n",
    "* `G`: a Power-Law network with 900 nodes\n",
    "* `L`: a Lattice (grid) network with 30x30 = 900 nodes (you'll get it when you see it...)\n",
    "\n",
    "Run this code:"
   ]
  },
  {
   "cell_type": "code",
   "execution_count": null,
   "metadata": {},
   "outputs": [],
   "source": [
    "G = nx.powerlaw_cluster_graph(900, 3, 0.2)\n",
    "\n",
    "L = nx.grid_2d_graph(30, 30)\n",
    "mapping = {old: i for i, old in enumerate(L.nodes)}\n",
    "L = nx.relabel_nodes(L, mapping)"
   ]
  },
  {
   "cell_type": "markdown",
   "metadata": {},
   "source": [
    "Run the `SIR_network` simulation on `G` with `beta` 0.5 and `gamma` 0.1, make node 0 the first infected:"
   ]
  },
  {
   "cell_type": "code",
   "execution_count": null,
   "metadata": {},
   "outputs": [],
   "source": [
    "# tG, IG, RG, SG, infected_time = ### YOUR CODE HERE ###"
   ]
  },
  {
   "cell_type": "markdown",
   "metadata": {},
   "source": [
    "Repeat with network `L`, same parameters:"
   ]
  },
  {
   "cell_type": "code",
   "execution_count": null,
   "metadata": {},
   "outputs": [],
   "source": [
    "# tL, IL, RL, SL, infected_timeL = ### YOUR CODE HERE ###"
   ]
  },
  {
   "cell_type": "markdown",
   "metadata": {},
   "source": [
    "Now run the following code to be able to compare the spread of the disease in both networks:"
   ]
  },
  {
   "cell_type": "code",
   "execution_count": null,
   "metadata": {},
   "outputs": [],
   "source": [
    "plt.rcParams['figure.figsize'] = [10, 15]\n",
    "plt.subplot(3, 2, 1)\n",
    "nx.draw_networkx(G, with_labels=False, node_size = 10)\n",
    "plt.subplot(3, 2, 2)\n",
    "pos = {i: old for old, i in mapping.items()}\n",
    "nx.draw_networkx(L, pos = pos, with_labels=False, node_size = 10)\n",
    "plt.subplot(3, 2, 3)\n",
    "ts = np.arange(tG + 1)\n",
    "plt.plot(ts, IG, label = 'infected')\n",
    "plt.plot(ts, RG, label = 'recovered')\n",
    "plt.plot(ts, SG, label = 'susceptible')\n",
    "plt.legend()\n",
    "plt.xlabel('t')\n",
    "plt.subplot(3, 2, 4)\n",
    "ts = np.arange(tL + 1)\n",
    "plt.plot(ts, IL, label = 'infected')\n",
    "plt.plot(ts, RL, label = 'recovered')\n",
    "plt.plot(ts, SL, label = 'susceptible')\n",
    "plt.legend()\n",
    "plt.xlabel('t')\n",
    "plt.subplot(3, 2, 5)\n",
    "G_degrees =list(dict(G.degree).values())\n",
    "plt.hist(G_degrees)\n",
    "plt.xlim(0, max(G_degrees))\n",
    "plt.xlabel('degree')\n",
    "plt.ylabel('freq')\n",
    "plt.subplot(3, 2, 6)\n",
    "plt.hist(list(dict(L.degree).values()))\n",
    "plt.xlim(0, max(G_degrees))\n",
    "plt.xlabel('degree')\n",
    "plt.show()"
   ]
  },
  {
   "cell_type": "markdown",
   "metadata": {},
   "source": [
    "Explain in your own words:\n",
    "* What is the difference between networks regarding the disease spread patterns?\n",
    "* What might be the implications to the real world?\n",
    "* You are the expert. The small-town social network you're researching is behaving Power-Law. Miss Honey, a local school teacher has just arrived from a vaction abroad and has been infected with a known virus for which a vaccine exists. Who would you recommend to vaccinate first and why?\n",
    "\n",
    "Keep it short :)"
   ]
  },
  {
   "cell_type": "code",
   "execution_count": null,
   "metadata": {},
   "outputs": [],
   "source": [
    "### YOUR WORDS HERE ###"
   ]
  },
  {
   "cell_type": "markdown",
   "metadata": {},
   "source": [
    "### Paper questions\n",
    "\n",
    "##### (10 points)"
   ]
  },
  {
   "cell_type": "markdown",
   "metadata": {},
   "source": [
    "Read Traag et. al. [Leiden](https://arxiv.org/abs/1810.08473) 2020 paper first 5 pages (of course you're invited to read the whole thing!).\n",
    "\n",
    "In your own up to 100 words, what are the two main modifications of the Louvain method implemented in the Leiden method, and how do they improve Louvain's results?"
   ]
  },
  {
   "cell_type": "code",
   "execution_count": null,
   "metadata": {},
   "outputs": [],
   "source": []
  },
  {
   "cell_type": "markdown",
   "metadata": {},
   "source": [
    "### Wrap up\n",
    "\n",
    "And that's it, you've done some network modeling, you've seen what it can be used for and made some cool simulations which hopefully have improved your understanding of the spread of certain viruses and the dangerous world we're living in. Good luck with the rest of the course!"
   ]
  }
 ],
 "metadata": {
  "kernelspec": {
   "display_name": "Python 3",
   "language": "python",
   "name": "python3"
  },
  "language_info": {
   "codemirror_mode": {
    "name": "ipython",
    "version": 3
   },
   "file_extension": ".py",
   "mimetype": "text/x-python",
   "name": "python",
   "nbconvert_exporter": "python",
   "pygments_lexer": "ipython3",
   "version": "3.8.7"
  }
 },
 "nbformat": 4,
 "nbformat_minor": 2
}
